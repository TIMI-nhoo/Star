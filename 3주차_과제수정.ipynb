{
  "nbformat": 4,
  "nbformat_minor": 0,
  "metadata": {
    "colab": {
      "name": "3주차 과제의 사본",
      "provenance": [],
      "collapsed_sections": [],
      "include_colab_link": true
    },
    "kernelspec": {
      "name": "python3",
      "display_name": "Python 3"
    }
  },
  "cells": [
    {
      "cell_type": "markdown",
      "metadata": {
        "id": "view-in-github",
        "colab_type": "text"
      },
      "source": [
        "<a href=\"https://colab.research.google.com/github/TIMI-nhoo/Star/blob/master/3%EC%A3%BC%EC%B0%A8_%EA%B3%BC%EC%A0%9C%EC%88%98%EC%A0%95.ipynb\" target=\"_parent\"><img src=\"https://colab.research.google.com/assets/colab-badge.svg\" alt=\"Open In Colab\"/></a>"
      ]
    },
    {
      "cell_type": "markdown",
      "metadata": {
        "id": "YbgBvQ6DjxMm",
        "colab_type": "text"
      },
      "source": [
        "# 3주차 과제\n",
        "- 학습률 최적화\n",
        "- 군집 분석(병합 계층 군집) 구현 클론 코딩\n",
        "- Cost function 구현"
      ]
    },
    {
      "cell_type": "markdown",
      "metadata": {
        "id": "evbG1BaNI1qd",
        "colab_type": "text"
      },
      "source": [
        "## 1. 학습률 최적화"
      ]
    },
    {
      "cell_type": "markdown",
      "metadata": {
        "id": "rqvqy18tI5Q5",
        "colab_type": "text"
      },
      "source": [
        "간단한 예제를 통해 학습률 최적화의 중요성에 대해서 확인 해 보도록 하겠습니다.\n",
        "\n",
        "아래 링크에서 __1단계만__에 손실 곡선의 최저점에 도달하게 하는 학습률을 찾아 정답을 적어주세요\n",
        "\n",
        "링크: https://developers.google.com/machine-learning/crash-course/fitter/graph?hl=ko"
      ]
    },
    {
      "cell_type": "markdown",
      "metadata": {
        "id": "HKdQdHs3Sax-",
        "colab_type": "text"
      },
      "source": [
        "### 정답 : 2.09"
      ]
    },
    {
      "cell_type": "markdown",
      "metadata": {
        "id": "zBuhqFe3SjKX",
        "colab_type": "text"
      },
      "source": [
        "## 2. 군집 분석(병합 계층 군집) 구현 클론 코딩"
      ]
    },
    {
      "cell_type": "markdown",
      "metadata": {
        "id": "SEuHj4ps1vcp",
        "colab_type": "text"
      },
      "source": [
        "군집 분석 강의(군집문제[2] 3:10 ~ 5:20 부분)를 보고 코드를 따라 치며 출력 결과(과제 설명 페이지 참고)를 만드세요. \n",
        "\n",
        "강의에서는 데이터 시각화까지 진행하지만 \n",
        "과제에서는 표를 출력하는 것 까지만 하시면 됩니다.\n",
        "\n",
        "3주차 과제 안내 페이지를 보시면 표에 대한 이미지가 있습니다. 참고해주세요"
      ]
    },
    {
      "cell_type": "code",
      "metadata": {
        "id": "JN1YPCENSphW",
        "colab_type": "code",
        "colab": {}
      },
      "source": [
        "from sklearn.datasets import make_blobs\n"
      ],
      "execution_count": null,
      "outputs": []
    },
    {
      "cell_type": "code",
      "metadata": {
        "id": "ck00pZqZL9pD",
        "colab_type": "code",
        "colab": {}
      },
      "source": [
        "X,y= make_blobs(n_samples=150,\n",
        "                n_features=2,\n",
        "                centers=3,\n",
        "                cluster_std=0.5,\n",
        "                shuffle=True,\n",
        "                random_state=0)"
      ],
      "execution_count": null,
      "outputs": []
    },
    {
      "cell_type": "code",
      "metadata": {
        "id": "qCLUoLOGu_R4",
        "colab_type": "code",
        "colab": {}
      },
      "source": [
        "import matplotlib.pyplot as plt"
      ],
      "execution_count": null,
      "outputs": []
    },
    {
      "cell_type": "code",
      "metadata": {
        "id": "kpzQ3bzLvTMo",
        "colab_type": "code",
        "colab": {
          "base_uri": "https://localhost:8080/",
          "height": 297
        },
        "outputId": "51a0d1d6-4564-4d3c-de5c-807a8912537a"
      },
      "source": [
        "plt.scatter(X[:,0],\n",
        "            X[:,1],\n",
        "            c='white',\n",
        "            marker='o',\n",
        "            edgecolor='black',\n",
        "            s=50\n",
        "          )\n",
        "plt.grid()\n",
        "plt.tight_layout()\n",
        "plt.show()"
      ],
      "execution_count": null,
      "outputs": [
        {
          "output_type": "display_data",
          "data": {
            "image/png": "[encoded data removed]",
            "text/plain": [
              "<Figure size 432x288 with 1 Axes>"
            ]
          },
          "metadata": {
            "tags": [],
            "needs_background": "light"
          }
        }
      ]
    },
    {
      "cell_type": "markdown",
      "metadata": {
        "id": "3A57ycqltuON",
        "colab_type": "text"
      },
      "source": [
        "## 3. Cost function 구현\n",
        "## $$cost(W) =  \\frac{1}{n}\\sum_{i=1}^n (Wx^{(i)}-y^{(i)})^2$$"
      ]
    },
    {
      "cell_type": "markdown",
      "metadata": {
        "id": "LS7Qtqm14hg-",
        "colab_type": "text"
      },
      "source": [
        "### 데이터(X, Y)"
      ]
    },
    {
      "cell_type": "code",
      "metadata": {
        "id": "iKpEGob-4EbZ",
        "colab_type": "code",
        "colab": {}
      },
      "source": [
        "# 제공된 데이터는 변경 할 수 없습니다.\n",
        "x = [1, 2, 3]\n",
        "y = [2, 4, 6]"
      ],
      "execution_count": null,
      "outputs": []
    },
    {
      "cell_type": "markdown",
      "metadata": {
        "id": "AWaFS6a54vCL",
        "colab_type": "text"
      },
      "source": [
        "### cost function을 파이썬으로 구현하세요.\n",
        "pass를 지우고 cost_func 함수를 완성하세요.\n",
        "\n",
        "가중치(Weight)를 입력하면 코스트(cost)를 계산하는 함수를 만드는게 목적입니다."
      ]
    },
    {
      "cell_type": "code",
      "metadata": {
        "id": "LT3q8ACK4ezT",
        "colab_type": "code",
        "colab": {}
      },
      "source": [
        "# W(가중치) 데이터 타입 -> int or float\n",
        "# x(학습 데이터) 데이터 타입 -> list\n",
        "# y(정답 데이터) 데이터 타입 -> list\n",
        "# cost_func 함수 리턴값 타입 -> float\n",
        "# cost_func 함수 리턴값 = cost 값\n",
        "# W:가중치, x:학습 데이터 y:정답 데이터\n",
        "\n",
        "def cost_func(W, x, y):\n",
        "    summation = 0\n",
        "    for i in range(len(x)) :\n",
        "        summation = summation + (W*x[i] - y[i])**2\n",
        "    cost = summation / len(x)\n",
        "    return cost\n",
        "x = [1, 2, 3]\n",
        "y = [2, 4, 6]\n"
      ],
      "execution_count": null,
      "outputs": []
    },
    {
      "cell_type": "markdown",
      "metadata": {
        "id": "lP20Ia-Reb49",
        "colab_type": "text"
      },
      "source": [
        "예시) x가 [1, 2] 이고 y가 [3, 6] 그리고 W가 4 일 경우  cost_func(W, x, y)함수의 리턴값은 2.5"
      ]
    },
    {
      "cell_type": "markdown",
      "metadata": {
        "id": "x4DoGgO9uZi2",
        "colab_type": "text"
      },
      "source": [
        "### cost_func을 활용하여 웨이트(Weight)가 -5부터 5까지의 변화에 따른 코스트(cost)를 출력 해주세요."
      ]
    },
    {
      "cell_type": "code",
      "metadata": {
        "id": "3XfP0-zIXQF6",
        "colab_type": "code",
        "colab": {
          "base_uri": "https://localhost:8080/",
          "height": 210
        },
        "outputId": "919ca897-ee39-41f9-a86d-15c5fe4b613f"
      },
      "source": [
        "# 여기 코드셀은 변경하지 마세요.\n",
        "# 완성된 함수를 확인하는 과정으로 해당 코드셀을 실행해서 정상 출력되면 정답!\n",
        "# 주의! 에러가 날 경우 데이터 코드셀과 cost function 코드셀을 실행했는지 확인해주세요.\n",
        "for feed_W in range(-5, 6, 1):\n",
        "  curr_cost = cost_func(feed_W, x, y)\n",
        "  print(\"{:6.3f} | {:10.5f}\".format(feed_W, curr_cost))"
      ],
      "execution_count": null,
      "outputs": [
        {
          "output_type": "stream",
          "text": [
            "-5.000 |  228.66667\n",
            "-4.000 |  168.00000\n",
            "-3.000 |  116.66667\n",
            "-2.000 |   74.66667\n",
            "-1.000 |   42.00000\n",
            " 0.000 |   18.66667\n",
            " 1.000 |    4.66667\n",
            " 2.000 |    0.00000\n",
            " 3.000 |    4.66667\n",
            " 4.000 |   18.66667\n",
            " 5.000 |   42.00000\n"
          ],
          "name": "stdout"
        }
      ]
    },
    {
      "cell_type": "code",
      "metadata": {
        "id": "L8muKq8Ew5Hp",
        "colab_type": "code",
        "colab": {}
      },
      "source": [
        ""
      ],
      "execution_count": null,
      "outputs": []
    }
  ]
}